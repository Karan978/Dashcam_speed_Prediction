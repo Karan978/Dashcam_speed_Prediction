{
 "cells": [
  {
   "cell_type": "code",
   "execution_count": 33,
   "metadata": {
    "colab": {},
    "colab_type": "code",
    "id": "RsXAE_3nA6IV"
   },
   "outputs": [],
   "source": [
    "\n",
    "import numpy as np\n",
    "import tensorflow as tf\n",
    "import cv2\n",
    "import os\n",
    "import matplotlib.pyplot as plt\n",
    "import matplotlib.image as mpimg\n",
    "import matplotlib.gridspec as gridspec\n",
    "from sklearn.utils import shuffle\n",
    "from sklearn.metrics import mean_squared_error\n",
    "from sklearn.model_selection import train_test_split\n",
    "from tqdm import tqdm\n",
    "import pandas as pd\n",
    "import ipywidgets as widgets\n",
    "from IPython.html.widgets import *\n",
    "import pickle\n",
    "import h5py \n",
    "from keras.callbacks import EarlyStopping, ModelCheckpoint, TensorBoard\n",
    "from keras.models import Sequential\n",
    "from keras.layers import TimeDistributed\n",
    "from keras.layers.convolutional import Convolution2D\n",
    "from keras.layers.pooling import MaxPooling2D\n",
    "from keras.layers.core import Activation, Dropout, Flatten, Dense, Lambda\n",
    "from keras.layers import *\n",
    "from keras.optimizers import Adam\n",
    "from keras.models import *\n"
   ]
  },
  {
   "cell_type": "code",
   "execution_count": 2,
   "metadata": {
    "colab": {
     "base_uri": "https://localhost:8080/",
     "height": 34
    },
    "colab_type": "code",
    "id": "8WxWFe6mA9H3",
    "outputId": "ef6e0633-f011-40ea-c612-a376b87c5dc7"
   },
   "outputs": [
    {
     "data": {
      "text/plain": [
       "'/device:GPU:0'"
      ]
     },
     "execution_count": 2,
     "metadata": {
      "tags": []
     },
     "output_type": "execute_result"
    }
   ],
   "source": [
    "tf.test.gpu_device_name()"
   ]
  },
  {
   "cell_type": "code",
   "execution_count": 3,
   "metadata": {
    "colab": {},
    "colab_type": "code",
    "id": "h-rYIWPoA9Pc"
   },
   "outputs": [],
   "source": [
    "import pandas as pd"
   ]
  },
  {
   "cell_type": "code",
   "execution_count": 4,
   "metadata": {
    "colab": {},
    "colab_type": "code",
    "id": "p-HNM49NA9Tf"
   },
   "outputs": [],
   "source": [
    "def constant_illumination(img): \n",
    "    hsv_img = cv2.cvtColor(img, cv2.COLOR_RGB2HSV)\n",
    "    hsv_img[:,:,2] = hsv_img[:,:,2] * 0.8\n",
    "    image_rgb = cv2.cvtColor(hsv_img, cv2.COLOR_HSV2RGB)\n",
    "    return image_rgb"
   ]
  },
  {
   "cell_type": "code",
   "execution_count": 5,
   "metadata": {
    "colab": {},
    "colab_type": "code",
    "id": "dzJkWkk_A9rw"
   },
   "outputs": [],
   "source": [
    "def region_of_interest(img):\n",
    "  h,w,c = img.shape\n",
    "  h1= h-120\n",
    "  crop_img = img[35:h1,:]\n",
    "  image = cv2.resize(crop_img, (220, 66), interpolation = cv2.INTER_AREA)\n",
    "  return image\n",
    "\n"
   ]
  },
  {
   "cell_type": "code",
   "execution_count": 6,
   "metadata": {
    "colab": {},
    "colab_type": "code",
    "id": "8CJROteBA962"
   },
   "outputs": [],
   "source": [
    "def opticalFlowDense(image_current, image_next):\n",
    "    \"\"\"\n",
    "    input: image_current, image_next (RGB images)\n",
    "    calculates optical flow magnitude and angle and places it into HSV image\n",
    "    * Set the saturation to the saturation value of image_next\n",
    "    * Set the hue to the angles returned from computing the flow params\n",
    "    * set the value to the magnitude returned from computing the flow params\n",
    "    * Convert from HSV to RGB and return RGB image with same size as original image\n",
    "    \"\"\"\n",
    "\n",
    "    gray_current = cv2.cvtColor(image_current, cv2.COLOR_RGB2GRAY)\n",
    "    gray_next = cv2.cvtColor(image_next, cv2.COLOR_RGB2GRAY)\n",
    "\n",
    "    hsv = np.zeros((image_current.shape))\n",
    "    # set saturation\n",
    "    hsv[:, :, 1] = cv2.cvtColor(image_next, cv2.COLOR_RGB2HSV)[:, :, 1]\n",
    "\n",
    "    # Flow Parameters\n",
    "    #     flow_mat = cv2.CV_32FC2\n",
    "    flow_mat = None\n",
    "    image_scale = 0.5\n",
    "    nb_images = 1\n",
    "    win_size = 15\n",
    "    nb_iterations = 2\n",
    "    deg_expansion = 5\n",
    "    STD = 1.3\n",
    "    extra = 0\n",
    "    # obtain dense optical flow paramters\n",
    "    flow = cv2.calcOpticalFlowFarneback(gray_current, gray_next,\n",
    "                                        flow_mat,\n",
    "                                        image_scale,\n",
    "                                        nb_images,\n",
    "                                        win_size,\n",
    "                                        nb_iterations,\n",
    "                                        deg_expansion,\n",
    "                                        STD,\n",
    "                                        0)\n",
    "\n",
    "    # convert from cartesian to polar\n",
    "    mag, ang = cv2.cartToPolar(flow[..., 0], flow[..., 1])\n",
    "\n",
    "    # hue corresponds to direction\n",
    "    hsv[:, :, 0] = ang * (180 / np.pi / 2)\n",
    "\n",
    "    # value corresponds to magnitude\n",
    "    hsv[:, :, 2] = cv2.normalize(mag, None, 0, 255, cv2.NORM_MINMAX)\n",
    "\n",
    "    # convert HSV to int32's\n",
    "    hsv = np.asarray(hsv, dtype=np.float32)\n",
    "    rgb_flow = cv2.cvtColor(hsv, cv2.COLOR_HSV2RGB)\n",
    "\n",
    "    return rgb_flow"
   ]
  },
  {
   "cell_type": "code",
   "execution_count": 7,
   "metadata": {
    "colab": {
     "base_uri": "https://localhost:8080/",
     "height": 122
    },
    "colab_type": "code",
    "id": "zqcIHzx8A9_u",
    "outputId": "e1bfbe52-80dc-4a8c-a390-0cb16c60240f"
   },
   "outputs": [
    {
     "name": "stdout",
     "output_type": "stream",
     "text": [
      "Go to this URL in a browser: https://accounts.google.com/o/oauth2/auth?client_id=947318989803-6bn6qk8qdgf4n4g3pfee6491hc0brc4i.apps.googleusercontent.com&redirect_uri=urn%3aietf%3awg%3aoauth%3a2.0%3aoob&response_type=code&scope=email%20https%3a%2f%2fwww.googleapis.com%2fauth%2fdocs.test%20https%3a%2f%2fwww.googleapis.com%2fauth%2fdrive%20https%3a%2f%2fwww.googleapis.com%2fauth%2fdrive.photos.readonly%20https%3a%2f%2fwww.googleapis.com%2fauth%2fpeopleapi.readonly\n",
      "\n",
      "Enter your authorization code:\n",
      "··········\n",
      "Mounted at /content/gdrive\n"
     ]
    }
   ],
   "source": [
    "from google.colab import drive\n",
    "drive.mount('/content/gdrive')"
   ]
  },
  {
   "cell_type": "code",
   "execution_count": 8,
   "metadata": {
    "colab": {},
    "colab_type": "code",
    "id": "yeC9HwoSA95A"
   },
   "outputs": [],
   "source": [
    "speeds = pd.read_csv('/content/gdrive/My Drive/speeds2.csv')"
   ]
  },
  {
   "cell_type": "code",
   "execution_count": 9,
   "metadata": {
    "colab": {
     "base_uri": "https://localhost:8080/",
     "height": 255
    },
    "colab_type": "code",
    "id": "UY2be52ZA93V",
    "outputId": "08e68a42-2e57-46db-b5bc-46877b96551e"
   },
   "outputs": [
    {
     "data": {
      "text/plain": [
       "<bound method DataFrame.info of           Speeds\n",
       "0      28.105569\n",
       "1      28.105569\n",
       "2      28.106527\n",
       "3      28.130404\n",
       "4      28.109243\n",
       "...          ...\n",
       "20395   2.329180\n",
       "20396   2.289795\n",
       "20397   2.292917\n",
       "20398   2.260600\n",
       "20399   2.206759\n",
       "\n",
       "[20400 rows x 1 columns]>"
      ]
     },
     "execution_count": 9,
     "metadata": {
      "tags": []
     },
     "output_type": "execute_result"
    }
   ],
   "source": [
    "speeds.info"
   ]
  },
  {
   "cell_type": "code",
   "execution_count": 9,
   "metadata": {
    "colab": {},
    "colab_type": "code",
    "id": "R-FJ2t9hEAz1"
   },
   "outputs": [],
   "source": []
  },
  {
   "cell_type": "code",
   "execution_count": 10,
   "metadata": {
    "colab": {},
    "colab_type": "code",
    "id": "uFyzUnC6A9pX"
   },
   "outputs": [],
   "source": [
    "path1 = '/content/gdrive/My Drive/train.mp4'"
   ]
  },
  {
   "cell_type": "code",
   "execution_count": 11,
   "metadata": {
    "colab": {},
    "colab_type": "code",
    "id": "6d1Iw7CKA9nx"
   },
   "outputs": [],
   "source": [
    "cap = cv2.VideoCapture(path1)"
   ]
  },
  {
   "cell_type": "code",
   "execution_count": 12,
   "metadata": {
    "colab": {},
    "colab_type": "code",
    "id": "kH_XVmjMA9mM"
   },
   "outputs": [],
   "source": [
    "no_of_frames = int(cap.get(cv2.CAP_PROP_FRAME_COUNT))"
   ]
  },
  {
   "cell_type": "code",
   "execution_count": 13,
   "metadata": {
    "colab": {},
    "colab_type": "code",
    "id": "VHBd4my0A9kn"
   },
   "outputs": [],
   "source": [
    "X = []\n",
    "y=[]"
   ]
  },
  {
   "cell_type": "code",
   "execution_count": 14,
   "metadata": {
    "colab": {},
    "colab_type": "code",
    "id": "HHwyySRMA9jH"
   },
   "outputs": [],
   "source": [
    "c = 0\n",
    "o_frame = 0\n",
    "o_speed = 0\n",
    "while(c<no_of_frames):\n",
    "  ret,n_frame = cap.read()\n",
    "  n_speed = speeds['Speeds'][c]\n",
    "  if c==0:\n",
    "    o_frame = n_frame\n",
    "    o_speed = n_speed\n",
    "    c = c+1\n",
    "    continue\n",
    "  \n",
    "  else:\n",
    "    o_frame1 = constant_illumination(o_frame)\n",
    "    o_frame1 = region_of_interest(o_frame1)\n",
    "\n",
    "    n_frame1 = constant_illumination(n_frame)\n",
    "    n_frame1 = region_of_interest(n_frame1)\n",
    "    \n",
    "    optical_flow = opticalFlowDense(o_frame1,n_frame1)\n",
    "    avg_speed = np.mean([o_speed,n_speed])\n",
    "\n",
    "  X.append(optical_flow)\n",
    "  y.append(avg_speed)\n",
    "  o_frame = n_frame\n",
    "  o_speed = n_speed\n",
    "  c = c+1\n",
    "\n",
    "\n"
   ]
  },
  {
   "cell_type": "code",
   "execution_count": 15,
   "metadata": {
    "colab": {
     "base_uri": "https://localhost:8080/",
     "height": 34
    },
    "colab_type": "code",
    "id": "diwF9QslA9f2",
    "outputId": "6cfca59a-f4af-42dc-dd1a-de794c92c96d"
   },
   "outputs": [
    {
     "data": {
      "text/plain": [
       "20399"
      ]
     },
     "execution_count": 15,
     "metadata": {
      "tags": []
     },
     "output_type": "execute_result"
    }
   ],
   "source": [
    "len(X)"
   ]
  },
  {
   "cell_type": "code",
   "execution_count": 38,
   "metadata": {
    "colab": {},
    "colab_type": "code",
    "id": "SHaih2qrA9bi"
   },
   "outputs": [],
   "source": [
    "def cnn_lstm_model():\n",
    "    ip_size = Input((66,220,3))\n",
    "    # inputs = Input(ip_size)\n",
    "\n",
    "    # model = Sequential()\n",
    "    # model.add(Lambda(lambda x: x/ 127.5 - 1, input_shape = inputShape))\n",
    "\n",
    "    conv1 = Convolution2D(10, (5, 5),kernel_initializer = 'he_normal',padding='same',\n",
    "                            activation = 'elu')(ip_size)\n",
    "    # model.add(conv1)\n",
    "    # conv1 = TimeDistributed(conv1)\n",
    "\n",
    "                            \n",
    "    \n",
    "    \n",
    "    conv2 = Convolution2D(20, (5, 5),  \n",
    "                            kernel_initializer = 'he_normal',padding='same',\n",
    "                            activation = 'elu')(conv1)\n",
    "    # model.add(conv2)\n",
    "    # conv2 = TimeDistributed(conv2)\n",
    "\n",
    "\n",
    "    \n",
    "    conv3 = Convolution2D(40, (5, 5), \n",
    "                            kernel_initializer = 'he_normal',padding='same',\n",
    "                            activation = 'elu')(conv2)\n",
    "    # model.add(conv3)\n",
    "    # conv3 = TimeDistributed(conv3)\n",
    "\n",
    "\n",
    "    \n",
    "    conv4 = Convolution2D(50, (3, 3), \n",
    "                            kernel_initializer = 'he_normal',padding='same',\n",
    "                            activation = 'elu')(conv3)\n",
    "    # model.add(conv4)\n",
    "    # conv4 = TimeDistributed(conv4)\n",
    "\n",
    "\n",
    "    \n",
    "                \n",
    "    conv5 = Convolution2D(60, (3, 3), \n",
    "                            kernel_initializer = 'he_normal',padding='same',\n",
    "                            activation = 'elu')(conv4)\n",
    "    # model.add(conv5)\n",
    "    # conv5 = TimeDistributed(conv5)\n",
    "\n",
    "\n",
    "\n",
    "    conv6 = Convolution2D(10, (3, 3), \n",
    "                            kernel_initializer = 'he_normal',padding='same',\n",
    "                            activation = 'elu')(conv5)\n",
    "    # model.add(conv6)\n",
    "    # conv6 = TimeDistributed(conv6)\n",
    "\n",
    "    # model.add(Flatten())\n",
    "\n",
    "    # flatten = TimeDistributed(flatten)\n",
    "    flatten = Flatten()(conv6)\n",
    "    # layer = np.array(flatten)\n",
    "    layer = Reshape((1,145200))(flatten)\n",
    "\n",
    "\n",
    "\n",
    "    # model.add(LSTM((200),input_shape=(1,1,145200),return_sequences=True))\n",
    "    lstm = LSTM((200),input_shape=(1,1,145200),return_sequences=False)(layer)\n",
    "    dense1 = Dense(50,activation='relu',kernel_initializer='he_normal')(lstm)\n",
    "    # model.add(Dense(50, activation='relu',kernel_initializer='he_normal'))\n",
    "    dense2 = Dense(1)(dense1)\n",
    "    # model.add(Dropout(0.5))\n",
    "    # model.add(Dense(1))\n",
    "    \n",
    "    # op = Dense(1)(dense)\n",
    "    adam = Adam(lr=1e-4, beta_1=0.9, beta_2=0.999, epsilon=1e-08, decay=0.0)\n",
    "    model = Model(input = ip_size,output=dense2)\n",
    "    model.compile(optimizer = adam, loss = 'mse')\n",
    "\n",
    "    return model"
   ]
  },
  {
   "cell_type": "code",
   "execution_count": 19,
   "metadata": {
    "colab": {},
    "colab_type": "code",
    "id": "LPETIQcGA9No"
   },
   "outputs": [],
   "source": [
    "callbacks = [EarlyStopping(monitor='val_loss', patience=2, verbose=1, min_delta = 0.23,mode='min',),\n",
    "             ModelCheckpoint('model_speed_pred.h5', monitor = 'val_loss',save_best_only = True, mode = 'min', verbose = 1,save_weights_only = True)]"
   ]
  },
  {
   "cell_type": "code",
   "execution_count": 20,
   "metadata": {
    "colab": {},
    "colab_type": "code",
    "id": "-4P4zlj7A9LO"
   },
   "outputs": [],
   "source": [
    "X_train = X[:14279]\n",
    "y_train = y[:14279]\n",
    "\n",
    "X_test = X[14279:]\n",
    "y_test = y[14279:]"
   ]
  },
  {
   "cell_type": "code",
   "execution_count": 21,
   "metadata": {
    "colab": {},
    "colab_type": "code",
    "id": "BYrfc6P1A9F9"
   },
   "outputs": [],
   "source": [
    "X_train = np.array(X_train)\n",
    "y_train = np.array(y_train)\n",
    "X_test = np.array(X_test)\n",
    "y_test = np.array(y_test)"
   ]
  },
  {
   "cell_type": "code",
   "execution_count": 43,
   "metadata": {
    "colab": {},
    "colab_type": "code",
    "id": "njho5JDIREYT"
   },
   "outputs": [],
   "source": [
    "y=np.array(y)"
   ]
  },
  {
   "cell_type": "code",
   "execution_count": 44,
   "metadata": {
    "colab": {
     "base_uri": "https://localhost:8080/",
     "height": 34
    },
    "colab_type": "code",
    "id": "dfTEkbMYRJyF",
    "outputId": "d1809868-35e1-4ea0-c772-9f5642ea283f"
   },
   "outputs": [
    {
     "data": {
      "text/plain": [
       "(20399,)"
      ]
     },
     "execution_count": 44,
     "metadata": {
      "tags": []
     },
     "output_type": "execute_result"
    }
   ],
   "source": [
    "y.shape"
   ]
  },
  {
   "cell_type": "code",
   "execution_count": 41,
   "metadata": {
    "colab": {
     "base_uri": "https://localhost:8080/",
     "height": 34
    },
    "colab_type": "code",
    "id": "51wjqZV3QzIA",
    "outputId": "97cf8db5-d346-4f6c-9ab0-700e0399ef0e"
   },
   "outputs": [
    {
     "data": {
      "text/plain": [
       "(14279,)"
      ]
     },
     "execution_count": 41,
     "metadata": {
      "tags": []
     },
     "output_type": "execute_result"
    }
   ],
   "source": [
    "y_train.shape"
   ]
  },
  {
   "cell_type": "code",
   "execution_count": 45,
   "metadata": {
    "colab": {
     "base_uri": "https://localhost:8080/",
     "height": 34
    },
    "colab_type": "code",
    "id": "vCxxzfpvRTF9",
    "outputId": "c43889a1-e4a8-4ac5-e45a-01ea7a725402"
   },
   "outputs": [
    {
     "data": {
      "text/plain": [
       "(14279, 66, 220, 3)"
      ]
     },
     "execution_count": 45,
     "metadata": {
      "tags": []
     },
     "output_type": "execute_result"
    }
   ],
   "source": [
    "X_train.shape"
   ]
  },
  {
   "cell_type": "code",
   "execution_count": 42,
   "metadata": {
    "colab": {
     "base_uri": "https://localhost:8080/",
     "height": 51
    },
    "colab_type": "code",
    "id": "XC-B4vnqQ5qh",
    "outputId": "c5b448ae-d4dc-49c6-861f-50f00170055e"
   },
   "outputs": [
    {
     "data": {
      "text/plain": [
       "array([28.105569 , 28.106048 , 28.1184655, 28.1198235, 28.0989075,\n",
       "       28.0613915, 28.026351 , 28.0025575, 28.001488 , 27.999169 ])"
      ]
     },
     "execution_count": 42,
     "metadata": {
      "tags": []
     },
     "output_type": "execute_result"
    }
   ],
   "source": [
    "y_train[:10]"
   ]
  },
  {
   "cell_type": "code",
   "execution_count": 46,
   "metadata": {
    "colab": {},
    "colab_type": "code",
    "id": "y6ofmoGeQaDj"
   },
   "outputs": [],
   "source": [
    "y_train = np.reshape(y_train, (y_train.shape[0],1,1))\n",
    "y_test = np.reshape(y_test, (y_test.shape[0],1,1))"
   ]
  },
  {
   "cell_type": "code",
   "execution_count": 35,
   "metadata": {
    "colab": {
     "base_uri": "https://localhost:8080/",
     "height": 54
    },
    "colab_type": "code",
    "id": "ZXp1CT7UBkcw",
    "outputId": "656153ab-d5ce-4413-be2b-fb5c3bee3b42"
   },
   "outputs": [
    {
     "name": "stderr",
     "output_type": "stream",
     "text": [
      "/usr/local/lib/python3.6/dist-packages/ipykernel_launcher.py:74: UserWarning: Update your `Model` call to the Keras 2 API: `Model(inputs=Tensor(\"in..., outputs=Tensor(\"de...)`\n"
     ]
    }
   ],
   "source": [
    "model = cnn_lstm_model()"
   ]
  },
  {
   "cell_type": "code",
   "execution_count": 49,
   "metadata": {
    "colab": {
     "base_uri": "https://localhost:8080/",
     "height": 1000
    },
    "colab_type": "code",
    "id": "RGY77-jOBqg7",
    "outputId": "fac2454b-b0e2-424c-a436-8438a4b7c486"
   },
   "outputs": [
    {
     "name": "stdout",
     "output_type": "stream",
     "text": [
      "Epoch 1/50\n",
      "14279/14279 [==============================] - 162s 11ms/step - loss: 58.6220\n",
      "Epoch 2/50\n"
     ]
    },
    {
     "name": "stderr",
     "output_type": "stream",
     "text": [
      "/usr/local/lib/python3.6/dist-packages/keras/callbacks/callbacks.py:846: RuntimeWarning: Early stopping conditioned on metric `val_loss` which is not available. Available metrics are: loss\n",
      "  (self.monitor, ','.join(list(logs.keys()))), RuntimeWarning\n",
      "/usr/local/lib/python3.6/dist-packages/keras/callbacks/callbacks.py:707: RuntimeWarning: Can save best model only with val_loss available, skipping.\n",
      "  'skipping.' % (self.monitor), RuntimeWarning)\n"
     ]
    },
    {
     "name": "stdout",
     "output_type": "stream",
     "text": [
      "14279/14279 [==============================] - 163s 11ms/step - loss: 58.6178\n",
      "Epoch 3/50\n",
      "14279/14279 [==============================] - 162s 11ms/step - loss: 58.5997\n",
      "Epoch 4/50\n",
      "14279/14279 [==============================] - 163s 11ms/step - loss: 58.5820\n",
      "Epoch 5/50\n",
      "14279/14279 [==============================] - 162s 11ms/step - loss: 58.5650\n",
      "Epoch 6/50\n",
      "14279/14279 [==============================] - 163s 11ms/step - loss: 58.5561\n",
      "Epoch 7/50\n",
      "14279/14279 [==============================] - 162s 11ms/step - loss: 58.5521\n",
      "Epoch 8/50\n",
      "14279/14279 [==============================] - 161s 11ms/step - loss: 58.5541\n",
      "Epoch 9/50\n",
      "14279/14279 [==============================] - 161s 11ms/step - loss: 58.5384\n",
      "Epoch 10/50\n",
      "14279/14279 [==============================] - 160s 11ms/step - loss: 58.5225\n",
      "Epoch 11/50\n",
      "14279/14279 [==============================] - 160s 11ms/step - loss: 58.5167\n",
      "Epoch 12/50\n",
      "14279/14279 [==============================] - 160s 11ms/step - loss: 58.5015\n",
      "Epoch 13/50\n",
      "14279/14279 [==============================] - 160s 11ms/step - loss: 58.4748\n",
      "Epoch 14/50\n",
      "14279/14279 [==============================] - 160s 11ms/step - loss: 58.4698\n",
      "Epoch 15/50\n",
      "14279/14279 [==============================] - 160s 11ms/step - loss: 58.4841\n",
      "Epoch 16/50\n",
      "14279/14279 [==============================] - 161s 11ms/step - loss: 58.4499\n",
      "Epoch 17/50\n",
      "14279/14279 [==============================] - 160s 11ms/step - loss: 58.4532\n",
      "Epoch 18/50\n",
      "14279/14279 [==============================] - 160s 11ms/step - loss: 58.4362\n",
      "Epoch 19/50\n",
      "14279/14279 [==============================] - 160s 11ms/step - loss: 58.4488\n",
      "Epoch 20/50\n",
      "14279/14279 [==============================] - 160s 11ms/step - loss: 58.4066\n",
      "Epoch 21/50\n",
      "14279/14279 [==============================] - 160s 11ms/step - loss: 58.4094\n",
      "Epoch 22/50\n",
      "14279/14279 [==============================] - 160s 11ms/step - loss: 58.3851\n",
      "Epoch 23/50\n",
      "14279/14279 [==============================] - 161s 11ms/step - loss: 58.3952\n",
      "Epoch 24/50\n",
      "14279/14279 [==============================] - 160s 11ms/step - loss: 58.3751\n",
      "Epoch 25/50\n",
      "14279/14279 [==============================] - 160s 11ms/step - loss: 58.3788\n",
      "Epoch 26/50\n",
      "14279/14279 [==============================] - 160s 11ms/step - loss: 58.3693\n",
      "Epoch 27/50\n",
      "14279/14279 [==============================] - 160s 11ms/step - loss: 58.3706\n",
      "Epoch 28/50\n",
      "14279/14279 [==============================] - 160s 11ms/step - loss: 58.3512\n",
      "Epoch 29/50\n",
      "14279/14279 [==============================] - 161s 11ms/step - loss: 58.3359\n",
      "Epoch 30/50\n",
      "14279/14279 [==============================] - 162s 11ms/step - loss: 58.3257\n",
      "Epoch 31/50\n",
      "14279/14279 [==============================] - 162s 11ms/step - loss: 58.3300\n",
      "Epoch 32/50\n",
      "14279/14279 [==============================] - 162s 11ms/step - loss: 58.3340\n",
      "Epoch 33/50\n",
      "14279/14279 [==============================] - 161s 11ms/step - loss: 58.2923\n",
      "Epoch 34/50\n",
      "14279/14279 [==============================] - 160s 11ms/step - loss: 58.2903\n",
      "Epoch 35/50\n",
      "14279/14279 [==============================] - 160s 11ms/step - loss: 58.2910\n",
      "Epoch 36/50\n",
      "14279/14279 [==============================] - 160s 11ms/step - loss: 58.2805\n",
      "Epoch 37/50\n",
      "14279/14279 [==============================] - 160s 11ms/step - loss: 58.2854\n",
      "Epoch 38/50\n",
      "14279/14279 [==============================] - 160s 11ms/step - loss: 58.2899\n",
      "Epoch 39/50\n",
      "14279/14279 [==============================] - 160s 11ms/step - loss: 58.2659\n",
      "Epoch 40/50\n",
      "14279/14279 [==============================] - 160s 11ms/step - loss: 58.2671\n",
      "Epoch 41/50\n",
      "14279/14279 [==============================] - 161s 11ms/step - loss: 58.2600\n",
      "Epoch 42/50\n",
      "14279/14279 [==============================] - 160s 11ms/step - loss: 58.2625\n",
      "Epoch 43/50\n",
      "14279/14279 [==============================] - 161s 11ms/step - loss: 58.2363\n",
      "Epoch 44/50\n",
      "14279/14279 [==============================] - 160s 11ms/step - loss: 58.2455\n",
      "Epoch 45/50\n",
      "14279/14279 [==============================] - 161s 11ms/step - loss: 58.2367\n",
      "Epoch 46/50\n",
      "14279/14279 [==============================] - 161s 11ms/step - loss: 58.2378\n",
      "Epoch 47/50\n",
      "14279/14279 [==============================] - 162s 11ms/step - loss: 58.1961\n",
      "Epoch 48/50\n",
      "14279/14279 [==============================] - 162s 11ms/step - loss: 58.1979\n",
      "Epoch 49/50\n",
      "14279/14279 [==============================] - 161s 11ms/step - loss: 58.2086\n",
      "Epoch 50/50\n",
      "14279/14279 [==============================] - 162s 11ms/step - loss: 58.1829\n"
     ]
    },
    {
     "data": {
      "text/plain": [
       "<keras.callbacks.callbacks.History at 0x7fcdf67dd9b0>"
      ]
     },
     "execution_count": 49,
     "metadata": {
      "tags": []
     },
     "output_type": "execute_result"
    }
   ],
   "source": [
    "model.fit(X_train,y_train,verbose=1,epochs=50,batch_size=32,callbacks = callbacks)"
   ]
  },
  {
   "cell_type": "code",
   "execution_count": 50,
   "metadata": {
    "colab": {
     "base_uri": "https://localhost:8080/",
     "height": 51
    },
    "colab_type": "code",
    "id": "iCjOD9YQBqko",
    "outputId": "5f6e943b-1a01-4671-9a48-35b0c714b413"
   },
   "outputs": [
    {
     "name": "stdout",
     "output_type": "stream",
     "text": [
      "6120/6120 [==============================] - 16s 3ms/step\n",
      "Test loss: 110.59119597618876\n"
     ]
    }
   ],
   "source": [
    "score = model.evaluate(X_test, y_test, verbose=1)\n",
    "print('Test loss:',score )\n",
    "# print('Test accuracy:', score[1])\n"
   ]
  },
  {
   "cell_type": "code",
   "execution_count": null,
   "metadata": {
    "colab": {},
    "colab_type": "code",
    "id": "UlunqDA-lDWu"
   },
   "outputs": [],
   "source": []
  },
  {
   "cell_type": "code",
   "execution_count": null,
   "metadata": {
    "colab": {},
    "colab_type": "code",
    "id": "bYoF1uj0FnWO"
   },
   "outputs": [],
   "source": []
  }
 ],
 "metadata": {
  "accelerator": "GPU",
  "colab": {
   "collapsed_sections": [],
   "name": "Dashcam_speed_pred2",
   "provenance": []
  },
  "kernelspec": {
   "display_name": "Python 3",
   "language": "python",
   "name": "python3"
  },
  "language_info": {
   "codemirror_mode": {
    "name": "ipython",
    "version": 3
   },
   "file_extension": ".py",
   "mimetype": "text/x-python",
   "name": "python",
   "nbconvert_exporter": "python",
   "pygments_lexer": "ipython3",
   "version": "3.7.6"
  }
 },
 "nbformat": 4,
 "nbformat_minor": 1
}
